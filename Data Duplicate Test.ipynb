{
 "cells": [
  {
   "cell_type": "code",
   "execution_count": 2,
   "metadata": {
    "collapsed": false
   },
   "outputs": [
    {
     "name": "stdout",
     "output_type": "stream",
     "text": [
      "Here are the results!\n"
     ]
    }
   ],
   "source": [
    "import numpy as np\n",
    "\n",
    "data_train = np.genfromtxt(\"trainingmix.tsv\", delimiter='\\t', dtype= str)\n",
    "twitHandle = data_train[:,1] # this gets the tweet handles [column B]\n",
    "\n",
    "unique_list = []\n",
    "duplicate_dict = {}\n",
    "    \n",
    "for index, name in enumerate(twitHandle):\n",
    "    if name not in unique_list:\n",
    "        #add into unique\n",
    "        unique_list.append(name)\n",
    "        duplicate_dict[name] = []\n",
    "    else:\n",
    "        duplicate_dict[name].append(index)\n",
    "\n",
    "for name, indices in duplicate_dict.items():\n",
    "    if indices:\n",
    "        new_indices = [x+1 for x in indices]\n",
    "        print(name, new_indices)\n",
    "print(\"Here are the results!\")"
   ]
  }
 ],
 "metadata": {
  "anaconda-cloud": {},
  "kernelspec": {
   "display_name": "Python [conda root]",
   "language": "python",
   "name": "conda-root-py"
  },
  "language_info": {
   "codemirror_mode": {
    "name": "ipython",
    "version": 3
   },
   "file_extension": ".py",
   "mimetype": "text/x-python",
   "name": "python",
   "nbconvert_exporter": "python",
   "pygments_lexer": "ipython3",
   "version": "3.5.2"
  }
 },
 "nbformat": 4,
 "nbformat_minor": 1
}
